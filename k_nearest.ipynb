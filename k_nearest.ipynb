{
  "nbformat": 4,
  "nbformat_minor": 0,
  "metadata": {
    "colab": {
      "name": "k-nearest.ipynb",
      "version": "0.3.2",
      "provenance": [],
      "include_colab_link": true
    },
    "kernelspec": {
      "name": "python3",
      "display_name": "Python 3"
    }
  },
  "cells": [
    {
      "cell_type": "markdown",
      "metadata": {
        "id": "view-in-github",
        "colab_type": "text"
      },
      "source": [
        "<a href=\"https://colab.research.google.com/github/sunkay/MLalgos/blob/master/k_nearest.ipynb\" target=\"_parent\"><img src=\"https://colab.research.google.com/assets/colab-badge.svg\" alt=\"Open In Colab\"/></a>"
      ]
    },
    {
      "metadata": {
        "id": "7NuAygsIQ1s6",
        "colab_type": "text"
      },
      "cell_type": "markdown",
      "source": [
        "k-nearest neighbors algo in py"
      ]
    },
    {
      "metadata": {
        "id": "c-_PlnGYRBQa",
        "colab_type": "code",
        "colab": {}
      },
      "cell_type": "code",
      "source": [
        "users = {\n",
        "    \"Angelica\": {\"Blues Traveler\": 3.5, \"Broken Bells\": 2.0,\n",
        "                 \"Norah Jones\": 4.5, \"Phoenix\": 5.0,\n",
        "                 \"Slightly Stoopid\": 1.5,\n",
        "                 \"The Strokes\": 2.5, \"Vampire Weekend\": 2.0},\n",
        "\n",
        "    \"Bill\": {\"Blues Traveler\": 2.0, \"Broken Bells\": 3.5,\n",
        "              \"Deadmau5\": 4.0, \"Phoenix\": 2.0,\n",
        "             \"Slightly Stoopid\": 3.5, \"Vampire Weekend\": 3.0},\n",
        "             \"Chan\": {\"Blues Traveler\": 5.0, \"Broken Bells\": 1.0,\n",
        "             \"Deadmau5\": 1.0, \"Norah Jones\": 3.0,\n",
        "             \"Phoenix\": 5, \"Slightly Stoopid\": 1.0},\n",
        "     \"Dan\": {\"Blues Traveler\": 3.0, \"Broken Bells\": 4.0,\n",
        "             \"Deadmau5\": 4.5, \"Phoenix\": 3.0,\n",
        "             \"Slightly Stoopid\": 4.5, \"The Strokes\": 4.0,\n",
        "             \"Vampire Weekend\": 2.0},\n",
        "    \"Hailey\": {\"Broken Bells\": 4.0, \"Deadmau5\": 1.0,\n",
        "             \"Norah Jones\": 4.0, \"The Strokes\": 4.0,\n",
        "             \"Vampire Weekend\": 1.0},\n",
        "   \"Jordyn\": {\"Broken Bells\": 4.5, \"Deadmau5\": 4.0, \"Norah Jones\": 5.0,\n",
        "               \"Phoenix\": 5.0, \"Slightly Stoopid\": 4.5,\n",
        "               \"The Strokes\": 4.0, \"Vampire Weekend\": 4.0},\n",
        "   \"Sam\": {\"Blues Traveler\": 5.0, \"Broken Bells\": 2.0,\n",
        "           \"Norah Jones\": 3.0, \"Phoenix\": 5.0,\n",
        "           \"Slightly Stoopid\": 4.0, \"The Strokes\": 5.0},\n",
        "   \"Veronica\": {\"Blues Traveler\": 3.0, \"Norah Jones\": 5.0,\n",
        "                 \"Phoenix\": 4.0, \"Slightly Stoopid\": 2.5,\n",
        "                 \"The Strokes\": 3.0}}"
      ],
      "execution_count": 0,
      "outputs": []
    },
    {
      "metadata": {
        "id": "GheZBxJKSHwl",
        "colab_type": "code",
        "colab": {}
      },
      "cell_type": "code",
      "source": [
        "def manhattan(rating1, rating2):\n",
        "  \"\"\" function to calculate manhattan distance   \"\"\"\n",
        "  distance = 0\n",
        "  for key in rating1:\n",
        "    if key in rating2:\n",
        "      distance += abs(rating1[key] - rating2[key])\n",
        "  return distance"
      ],
      "execution_count": 0,
      "outputs": []
    },
    {
      "metadata": {
        "id": "ZhQF1sHWUj6U",
        "colab_type": "code",
        "colab": {
          "base_uri": "https://localhost:8080/",
          "height": 51
        },
        "outputId": "17a605ee-f7fc-45e5-b139-767a70395569"
      },
      "cell_type": "code",
      "source": [
        "print(manhattan(users[\"Hailey\"], users[\"Veronica\"]))\n",
        "print(manhattan(users[\"Hailey\"], users[\"Jordyn\"]))"
      ],
      "execution_count": 6,
      "outputs": [
        {
          "output_type": "stream",
          "text": [
            "2.0\n",
            "7.5\n"
          ],
          "name": "stdout"
        }
      ]
    },
    {
      "metadata": {
        "id": "cBlNTalCVDzQ",
        "colab_type": "code",
        "colab": {}
      },
      "cell_type": "code",
      "source": [
        "#compute nearest neighbour\n",
        "def computeNearestNeighbour(username, users):\n",
        "  distances = []\n",
        "  for user in users:\n",
        "    if username != user:\n",
        "      distance = manhattan(users[username], users[user])\n",
        "      distances.append((distance, user))\n",
        "  distances.sort()\n",
        "  return distances\n",
        "    "
      ],
      "execution_count": 0,
      "outputs": []
    },
    {
      "metadata": {
        "id": "EsQ027KDNVQ5",
        "colab_type": "code",
        "colab": {
          "base_uri": "https://localhost:8080/",
          "height": 136
        },
        "outputId": "f0b6bfd3-79a7-489a-97a9-3fc6d7543ec8"
      },
      "cell_type": "code",
      "source": [
        "computeNearestNeighbour(\"Hailey\", users)"
      ],
      "execution_count": 11,
      "outputs": [
        {
          "output_type": "execute_result",
          "data": {
            "text/plain": [
              "[(2.0, 'Veronica'),\n",
              " (4.0, 'Chan'),\n",
              " (4.0, 'Sam'),\n",
              " (4.5, 'Dan'),\n",
              " (5.0, 'Angelica'),\n",
              " (5.5, 'Bill'),\n",
              " (7.5, 'Jordyn')]"
            ]
          },
          "metadata": {
            "tags": []
          },
          "execution_count": 11
        }
      ]
    }
  ]
}