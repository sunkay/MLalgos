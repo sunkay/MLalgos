{
  "nbformat": 4,
  "nbformat_minor": 0,
  "metadata": {
    "colab": {
      "name": "k-nearest.ipynb",
      "version": "0.3.2",
      "provenance": [],
      "collapsed_sections": []
    },
    "kernelspec": {
      "name": "python3",
      "display_name": "Python 3"
    }
  },
  "cells": [
    {
      "metadata": {
        "id": "7NuAygsIQ1s6",
        "colab_type": "text"
      },
      "cell_type": "markdown",
      "source": [
        "k-nearest neighbors algo in py"
      ]
    },
    {
      "metadata": {
        "id": "c-_PlnGYRBQa",
        "colab_type": "code",
        "colab": {}
      },
      "cell_type": "code",
      "source": [
        "users = {\n",
        "    \"Angelica\": {\"Blues Traveler\": 3.5, \"Broken Bells\": 2.0,\n",
        "                 \"Norah Jones\": 4.5, \"Phoenix\": 5.0,\n",
        "                 \"Slightly Stoopid\": 1.5,\n",
        "                 \"The Strokes\": 2.5, \"Vampire Weekend\": 2.0},\n",
        "\n",
        "    \"Bill\": {\"Blues Traveler\": 2.0, \"Broken Bells\": 3.5,\n",
        "              \"Deadmau5\": 4.0, \"Phoenix\": 2.0,\n",
        "             \"Slightly Stoopid\": 3.5, \"Vampire Weekend\": 3.0},\n",
        "             \"Chan\": {\"Blues Traveler\": 5.0, \"Broken Bells\": 1.0,\n",
        "             \"Deadmau5\": 1.0, \"Norah Jones\": 3.0,\n",
        "             \"Phoenix\": 5, \"Slightly Stoopid\": 1.0},\n",
        "     \"Dan\": {\"Blues Traveler\": 3.0, \"Broken Bells\": 4.0,\n",
        "             \"Deadmau5\": 4.5, \"Phoenix\": 3.0,\n",
        "             \"Slightly Stoopid\": 4.5, \"The Strokes\": 4.0,\n",
        "             \"Vampire Weekend\": 2.0},\n",
        "    \"Hailey\": {\"Broken Bells\": 4.0, \"Deadmau5\": 1.0,\n",
        "             \"Norah Jones\": 4.0, \"The Strokes\": 4.0,\n",
        "             \"Vampire Weekend\": 1.0},\n",
        "   \"Jordyn\": {\"Broken Bells\": 4.5, \"Deadmau5\": 4.0, \"Norah Jones\": 5.0,\n",
        "               \"Phoenix\": 5.0, \"Slightly Stoopid\": 4.5,\n",
        "               \"The Strokes\": 4.0, \"Vampire Weekend\": 4.0},\n",
        "   \"Sam\": {\"Blues Traveler\": 5.0, \"Broken Bells\": 2.0,\n",
        "           \"Norah Jones\": 3.0, \"Phoenix\": 5.0,\n",
        "           \"Slightly Stoopid\": 4.0, \"The Strokes\": 5.0},\n",
        "   \"Veronica\": {\"Blues Traveler\": 3.0, \"Norah Jones\": 5.0,\n",
        "                 \"Phoenix\": 4.0, \"Slightly Stoopid\": 2.5,\n",
        "                 \"The Strokes\": 3.0}}"
      ],
      "execution_count": 0,
      "outputs": []
    },
    {
      "metadata": {
        "id": "GheZBxJKSHwl",
        "colab_type": "code",
        "colab": {}
      },
      "cell_type": "code",
      "source": [
        "def manhattan(rating1, rating2):\n",
        "  \"\"\" function to calculate manhattan distance   \"\"\"\n",
        "  distance = 0\n",
        "  for key in rating1:\n",
        "    if key in rating2:\n",
        "      distance += abs(rating1[key] - rating2[key])\n",
        "  return distance"
      ],
      "execution_count": 0,
      "outputs": []
    },
    {
      "metadata": {
        "id": "ZhQF1sHWUj6U",
        "colab_type": "code",
        "colab": {
          "base_uri": "https://localhost:8080/",
          "height": 51
        },
        "outputId": "17a605ee-f7fc-45e5-b139-767a70395569"
      },
      "cell_type": "code",
      "source": [
        "print(manhattan(users[\"Hailey\"], users[\"Veronica\"]))\n",
        "print(manhattan(users[\"Hailey\"], users[\"Jordyn\"]))"
      ],
      "execution_count": 6,
      "outputs": [
        {
          "output_type": "stream",
          "text": [
            "2.0\n",
            "7.5\n"
          ],
          "name": "stdout"
        }
      ]
    },
    {
      "metadata": {
        "id": "cBlNTalCVDzQ",
        "colab_type": "code",
        "colab": {}
      },
      "cell_type": "code",
      "source": [
        "#compute nearest neighbour\n",
        "def computeNearestNeighbour(username, users):\n",
        "  distances = []\n",
        "  for user in users:\n",
        "    if username != user:\n",
        "      distance = manhattan(users[username], users[user])\n",
        "      distances.append((distance, user))\n",
        "  distances.sort()\n",
        "  return distances\n",
        "    "
      ],
      "execution_count": 0,
      "outputs": []
    },
    {
      "metadata": {
        "id": "EsQ027KDNVQ5",
        "colab_type": "code",
        "colab": {
          "base_uri": "https://localhost:8080/",
          "height": 136
        },
        "outputId": "f0b6bfd3-79a7-489a-97a9-3fc6d7543ec8"
      },
      "cell_type": "code",
      "source": [
        "computeNearestNeighbour(\"Hailey\", users)"
      ],
      "execution_count": 11,
      "outputs": [
        {
          "output_type": "execute_result",
          "data": {
            "text/plain": [
              "[(2.0, 'Veronica'),\n",
              " (4.0, 'Chan'),\n",
              " (4.0, 'Sam'),\n",
              " (4.5, 'Dan'),\n",
              " (5.0, 'Angelica'),\n",
              " (5.5, 'Bill'),\n",
              " (7.5, 'Jordyn')]"
            ]
          },
          "metadata": {
            "tags": []
          },
          "execution_count": 11
        }
      ]
    },
    {
      "metadata": {
        "id": "rpkKhIEwP2vg",
        "colab_type": "text"
      },
      "cell_type": "markdown",
      "source": [
        "recommend(username, users)\n",
        "recommend(\"hailey\", users)\n",
        "1. Find the closest neighbour\n",
        "2. Find all the bands that \"hailey\" has rated but closest neighbour has not\n",
        "3. Recommend bands that hailey has rated higher and neighbour has not yet heard"
      ]
    },
    {
      "metadata": {
        "id": "hf4HsKZ3QfgE",
        "colab_type": "code",
        "colab": {
          "base_uri": "https://localhost:8080/",
          "height": 68
        },
        "outputId": "9b2ea7af-7fb7-4ff9-8a5a-cad474fea26c"
      },
      "cell_type": "code",
      "source": [
        "def recommend(username, users):\n",
        "  #find the closest neighbour\n",
        "  nearest_user = computeNearestNeighbour(username, users)[0][1]\n",
        "  recommendations = []\n",
        "  # find bands that are not rated by each other\n",
        "  neighbourRatings = users[nearest_user]\n",
        "  userRatings = users[username]\n",
        "  print(\"neighRatings\", neighbourRatings)\n",
        "  print(\"UserRatings\", userRatings)\n",
        "  for artist in neighbourRatings:\n",
        "    if not artist in userRatings:\n",
        "      recommendations.append((artist, neighbourRatings[artist]))\n",
        "  \n",
        "  # sort the recommendations by rating\n",
        "  recommendations = sorted(recommendations, \n",
        "                           key=lambda x: x[1], \n",
        "                           reverse=True)\n",
        "  \n",
        "  return recommendations\n",
        "\n",
        "print(recommend(\"Hailey\", users))\n",
        "  "
      ],
      "execution_count": 26,
      "outputs": [
        {
          "output_type": "stream",
          "text": [
            "neighRatings {'Blues Traveler': 3.0, 'Norah Jones': 5.0, 'Phoenix': 4.0, 'Slightly Stoopid': 2.5, 'The Strokes': 3.0}\n",
            "UserRatings {'Broken Bells': 4.0, 'Deadmau5': 1.0, 'Norah Jones': 4.0, 'The Strokes': 4.0, 'Vampire Weekend': 1.0}\n",
            "[('Phoenix', 4.0), ('Blues Traveler', 3.0), ('Slightly Stoopid', 2.5)]\n"
          ],
          "name": "stdout"
        }
      ]
    }
  ]
}